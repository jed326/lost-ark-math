{
 "cells": [
  {
   "cell_type": "code",
   "execution_count": 3,
   "metadata": {},
   "outputs": [
    {
     "name": "stdout",
     "output_type": "stream",
     "text": [
      "Honing Gold Cost: 1391.47\n",
      "Expected Gold Loss: 1182.7495\n",
      "Cost to max out buffs: 1029.0\n",
      "Expected loss with buffs 1331.2585000000001\n",
      "Do not used buffs!\n"
     ]
    }
   ],
   "source": [
    "SUCCESS_RATE = .15\n",
    "BUFF_RATES = .3\n",
    "\n",
    "prices = {\n",
    "    \"Honor Shard Pouch (S)\" : 81,\n",
    "    \"Honor Shard Pouch (M)\" : 155,\n",
    "    \"Honor Shard Pouch (L)\" : 369,\n",
    "    \"Destruction Stone Crystal\" : 85,\n",
    "    \"Guardian Stone Crystal\" : 59,\n",
    "    \"Honor Leapstone\" : 174,\n",
    "    \"Simple Oreha Fusion\" : 1000,\n",
    "    \"Solar Protection\" : 659,\n",
    "    \"Solar Blessing\" : 290,\n",
    "    \"Solar Grace\" : 80\n",
    "}\n",
    "\n",
    "quantity = {\n",
    "    \"Honor Shard Pouch (S)\" : 500,\n",
    "    \"Honor Shard Pouch (M)\" : 1000,\n",
    "    \"Honor Shard Pouch (L)\" : 1500,\n",
    "    \"Destruction Stone Crystal\" : 10,\n",
    "    \"Guardian Stone Crystal\" : 10,\n",
    "    \"Honor Leapstone\" : 1,\n",
    "    \"Simple Oreha Fusion\" : 1,\n",
    "    \"Solar Protection\" : 1,\n",
    "    \"Solar Blessing\" : 1,\n",
    "    \"Solar Grace\" : 1\n",
    "}\n",
    "\n",
    "honing_cost = {\n",
    "    \"Honor Shard\" : 474,\n",
    "    \"Guardian Stone Crystal\" : 10,\n",
    "    \"Destruction Stone Crystal\" : 10,\n",
    "    \"Honor Leapstone\" : 1,\n",
    "    \"Simple Oreha Fusion\" : 1,\n",
    "    \"Solar Protection\" : 1,\n",
    "    \"Solar Blessing\" : 1,\n",
    "    \"Solar Grace\" : 1\n",
    "}\n",
    "\n",
    "honing_gold = 0\n",
    "shard_unit_price = min(\n",
    "    prices[\"Honor Shard Pouch (S)\"]/quantity[\"Honor Shard Pouch (S)\"],\n",
    "    prices[\"Honor Shard Pouch (M)\"]/quantity[\"Honor Shard Pouch (M)\"],\n",
    "    prices[\"Honor Shard Pouch (L)\"]/quantity[\"Honor Shard Pouch (L)\"],\n",
    "    )\n",
    "honing_gold += shard_unit_price * honing_cost[\"Honor Shard\"]\n",
    "\n",
    "honing_gold += prices[\"Destruction Stone Crystal\"]/quantity[\"Destruction Stone Crystal\"] * honing_cost[\"Destruction Stone Crystal\"]\n",
    "honing_gold += prices[\"Guardian Stone Crystal\"]/quantity[\"Guardian Stone Crystal\"] * honing_cost[\"Guardian Stone Crystal\"]\n",
    "honing_gold += prices[\"Honor Leapstone\"]/quantity[\"Honor Leapstone\"] * honing_cost[\"Honor Leapstone\"]\n",
    "honing_gold += prices[\"Simple Oreha Fusion\"]/quantity[\"Simple Oreha Fusion\"] * honing_cost[\"Simple Oreha Fusion\"]\n",
    "\n",
    "print(\"Honing Gold Cost:\", honing_gold)\n",
    "\n",
    "expected_loss = honing_gold * (1 - SUCCESS_RATE)\n",
    "\n",
    "print(\"Expected Gold Loss:\", expected_loss)\n",
    "\n",
    "buff_cost = 0\n",
    "\n",
    "buff_cost += prices[\"Solar Protection\"]/quantity[\"Solar Protection\"] * honing_cost[\"Solar Protection\"]\n",
    "buff_cost += prices[\"Solar Blessing\"]/quantity[\"Solar Blessing\"] * honing_cost[\"Solar Blessing\"]\n",
    "buff_cost += prices[\"Solar Grace\"]/quantity[\"Solar Grace\"] * honing_cost[\"Solar Grace\"]\n",
    "\n",
    "print(\"Cost to max out buffs:\", buff_cost)\n",
    "\n",
    "expected_loss_with_buffs = (honing_gold + buff_cost) * (1 - (BUFF_RATES + SUCCESS_RATE))\n",
    "\n",
    "print(\"Expected loss with buffs\", expected_loss_with_buffs)\n",
    "\n",
    "if expected_loss_with_buffs > expected_loss:\n",
    "    print(\"Do not used buffs!\")\n",
    "else:\n",
    "    print(\"Use buffs!\")\n"
   ]
  },
  {
   "cell_type": "markdown",
   "metadata": {},
   "source": []
  }
 ],
 "metadata": {
  "interpreter": {
   "hash": "aee8b7b246df8f9039afb4144a1f6fd8d2ca17a180786b69acc140d282b71a49"
  },
  "kernelspec": {
   "display_name": "Python 3.9.2 64-bit",
   "language": "python",
   "name": "python3"
  },
  "language_info": {
   "codemirror_mode": {
    "name": "ipython",
    "version": 3
   },
   "file_extension": ".py",
   "mimetype": "text/x-python",
   "name": "python",
   "nbconvert_exporter": "python",
   "pygments_lexer": "ipython3",
   "version": "3.9.2"
  },
  "orig_nbformat": 4
 },
 "nbformat": 4,
 "nbformat_minor": 2
}
